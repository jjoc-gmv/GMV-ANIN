{
 "cells": [
  {
   "cell_type": "markdown",
   "id": "aec6158d",
   "metadata": {},
   "source": [
    "# Libraries"
   ]
  },
  {
   "cell_type": "code",
   "execution_count": null,
   "id": "c1c801b5",
   "metadata": {},
   "outputs": [],
   "source": [
    "import os\n",
    "import xarray as xr\n",
    "import rioxarray as rxr\n",
    "from shapely.geometry import mapping\n",
    "import geopandas as gpd\n",
    "from rasterio.enums import Resampling\n",
    "from datetime import datetime, timedelta\n",
    "from calendar import monthrange"
   ]
  },
  {
   "cell_type": "code",
   "execution_count": 19,
   "id": "c77bafd5",
   "metadata": {},
   "outputs": [],
   "source": [
    "# Set the base directory with an environment variable, fallback to a relative path\n",
    "main_dir = os.getenv('PROJECT_DIR', os.path.join(os.getcwd(), 'data', 'ANIN', 'Generating Indices', 'VCI', 'NDVI-16', 'Trial', 'Tiles'))\n",
    "\n",
    "Monthly_Copernicus = os.path.join(main_dir, 'Copernicus_monthly')\n",
    "Max =os.path.join(main_dir, 'MAX')\n",
    "Min =os.path.join(main_dir, 'MIN')\n",
    "LC_path= os.path.join(main_dir, 'LC_300m.tif')\n",
    "LCSentinel3_path= os.path.join(main_dir, 'LC_South Africa300.tif')"
   ]
  },
  {
   "cell_type": "code",
   "execution_count": 3,
   "id": "6aa74b5a",
   "metadata": {},
   "outputs": [],
   "source": [
    "Copernicus_years = sorted(os.listdir(Monthly_Copernicus))\n",
    "years_copernicus = {}\n",
    "for year in Copernicus_years:\n",
    "    months_copernicus={}\n",
    "    for month in sorted(os.listdir(os.path.join(Monthly_Copernicus, year))):\n",
    "        path = os.path.join(Monthly_Copernicus, year, month)\n",
    "        image = rxr.open_rasterio(path, masked = True)\n",
    "        months_copernicus[month[4:-4]]=image\n",
    "    years_copernicus[year] = months_copernicus\n"
   ]
  },
  {
   "cell_type": "code",
   "execution_count": 4,
   "id": "a0a2a9a0",
   "metadata": {},
   "outputs": [],
   "source": [
    "NDVI_max= {}\n",
    "NDVI_min= {}\n",
    "Max_NDVI = sorted(os.listdir(Max))\n",
    "Min_NDVI = sorted(os.listdir(Min))\n",
    "for month in Max_NDVI:\n",
    "    path = os.path.join(Max, month)\n",
    "    image = rxr.open_rasterio(path, masked = True)\n",
    "    NDVI_max[month[:-8]]=image\n",
    "for month in Min_NDVI:\n",
    "    path = os.path.join(Min, month)\n",
    "    image = rxr.open_rasterio(path, masked = True)\n",
    "    NDVI_min[month[:-8]]=image\n",
    "\n",
    "    \n",
    "    "
   ]
  },
  {
   "cell_type": "code",
   "execution_count": 22,
   "id": "175f7c49",
   "metadata": {},
   "outputs": [
    {
     "name": "stdout",
     "output_type": "stream",
     "text": [
      "VCI files are created\n"
     ]
    }
   ],
   "source": [
    "Land_cover_CCI = rxr.open_rasterio(LC_path, masked = True)\n",
    "Land_cover_S3 = rxr.open_rasterio(LCSentinel3_path, masked = True)\n",
    "Land_cover_S3 = Land_cover_S3.rio.reproject_match(image)\n",
    "for year in years_copernicus:\n",
    "    #loop through each month in the year\n",
    "    for month in years_copernicus[year]:\n",
    "        #Assign the monthly NDVI data which matchs the year and month\n",
    "        Monthly_NDVI = years_copernicus[year][month]\n",
    "        #Taking the max NDVI which matches the month \n",
    "        Max_NDVI = NDVI_max[month]\n",
    "        #Taking the min NDVI which matches the month\n",
    "        Min_NDVI = NDVI_min[month]\n",
    "        #Calculation of Vegetation Condition Index (VCI)\n",
    "        VCI = (Monthly_NDVI - Min_NDVI)/(Max_NDVI - Min_NDVI)\n",
    "        #add LC\n",
    "        VCI_mask= xr.concat([VCI,Land_cover_S3, Land_cover_CCI],dim ='band')\n",
    "        VCI_mask.rio.to_raster(os.path.join(main_dir, 'VCI_LC', 'All', month+ year+ '_VCI.tif'))\n",
    "        #VCI_vegetation \n",
    "        VCI_veg = VCI_mask.where( ((VCI_mask[1]>=11) & (VCI_mask[1]<=170)) | ((VCI_mask[2]>=1)& (VCI_mask[2]<6)))\n",
    "        VCI_veg.rio.to_raster(os.path.join(main_dir, 'VCI_LC', 'Veg', month+ year+ '_VCI'+'.tif'))\n",
    "        #VCI_cropland\n",
    "        VCI_crop = VCI_mask.where( ((VCI_mask[1]>=11) & (VCI_mask[1]<=30)) | (VCI_mask[2]==4))\n",
    "        VCI_crop.rio.to_raster(os.path.join(main_dir, 'VCI_LC', 'Cropland', month+ year+ '_VCI'+'.tif'))\n",
    "        #Export the VCI as tiff file\n",
    "        \n",
    "print('VCI files are created')"
   ]
  }
 ],
 "metadata": {
  "kernelspec": {
   "display_name": "rasterio",
   "language": "python",
   "name": "rasterio"
  },
  "language_info": {
   "codemirror_mode": {
    "name": "ipython",
    "version": 3
   },
   "file_extension": ".py",
   "mimetype": "text/x-python",
   "name": "python",
   "nbconvert_exporter": "python",
   "pygments_lexer": "ipython3",
   "version": "3.11.0"
  }
 },
 "nbformat": 4,
 "nbformat_minor": 5
}
