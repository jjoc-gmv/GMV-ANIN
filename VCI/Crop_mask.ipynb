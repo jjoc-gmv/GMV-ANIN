{
 "cells": [
  {
   "cell_type": "markdown",
   "id": "e1ebb615",
   "metadata": {},
   "source": [
    "# Libraries"
   ]
  },
  {
   "cell_type": "code",
   "execution_count": 1,
   "id": "76d70796",
   "metadata": {
    "scrolled": true
   },
   "outputs": [],
   "source": [
    "import os\n",
    "import warnings\n",
    "import xarray as xr\n",
    "import rioxarray as rxr\n\n",
    "# Suppress specific warning for cleaner output\n",
    "warnings.filterwarnings('ignore', category=UserWarning, module='rioxarray._io')"
   ]
  },
  {
   "cell_type": "markdown",
   "id": "f5ba27b1",
   "metadata": {},
   "source": [
    "# Directories"
   ]
  },
  {
   "cell_type": "code",
   "execution_count": 33,
   "id": "82513b37",
   "metadata": {},
   "outputs": [],
   "source": [
    "# Set the base directory with an environment variable, fallback to a relative path\n",
    "main_dir = os.getenv('PROJECT_DIR', os.path.join(os.getcwd(), 'data', 'ANIN', 'Generating Indices', 'VCI', 'NDVI-16', 'Trial', 'Tiles', 'Crop_mask_new'))\n\n",
    "# Open the Phenology image\n",
    "Phenology = rxr.open_rasterio(os.path.join(main_dir, 'Phenology.tif'), masked=True)\n",
    "Land_cover_CCI = rxr.open_rasterio(os.path.join(main_dir, 'LC_300m.tif'), masked=True)\n",
    "Land_cover_S3 = rxr.open_rasterio(os.path.join(main_dir, 'LC_South Africa300.tif'), masked=True)\n\n",
    "# Reproject Land_cover_S3 to match Land_cover_CCI\n",
    "Land_cover_S3 = Land_cover_S3.rio.reproject_match(Land_cover_CCI)\n\n",
    "# Print paths for verification\n",
    "print('Main Directory:', main_dir)\n",
    "print('Phenology Path:', os.path.join(main_dir, 'Phenology.tif'))\n",
    "print('Land Cover CCI Path:', os.path.join(main_dir, 'LC_300m.tif'))\n",
    "print('Land Cover S3 Path:', os.path.join(main_dir, 'LC_South Africa300.tif'))\n"
   ]
  },
  {
   "cell_type": "markdown",
   "id": "bf31ce1f",
   "metadata": {},
   "source": [
    "Tiff files of phenology contain value V expressed over a 3-year period, from 1 to 108 dekads (ten-day periods). This allows treating the circular variable dekad as an ordinal variable. The timing T is expressed in 1-36 dekad units (calendar year): i) if value V <= 36, then T=V; ii) if 36 < V <= 72, then T= V-36; iii) if V > 72, then T=V-72."
   ]
  },
  {
   "cell_type": "code",
   "execution_count": 9,
   "id": "7eb9fe74",
   "metadata": {},
   "outputs": [],
   "source": [
    "# This code adjusts all values to be within 0 to 36, representing each dekad in a year\n",
    "Phenology_new = xr.where((Phenology > 36) & (Phenology <= 72), Phenology - 36, Phenology)\n",
    "Phenology_new = xr.where(Phenology_new > 72, Phenology_new - 72, Phenology_new)"
   ]
  },
  {
   "cell_type": "code",
   "execution_count": 11,
   "id": "646ec43d",
   "metadata": {},
   "outputs": [],
   "source": [
    "# Accumulate dekads into months\n",
    "count = 0\n",
    "P = Phenology_new\n",
    "for i in range(12):\n",
    "    P = xr.where((Phenology_new > count) & (Phenology_new <= (3 + count)), 1 + i, P)\n",
    "    count += 3"
   ]
  },
  {
   "cell_type": "code",
   "execution_count": null,
   "id": "04619b22",
   "metadata": {},
   "outputs": [],
   "source": [
    "# List of month names for file outputs\n",
    "months = ['January', 'February', 'March', 'April', 'May', 'June', 'July', 'August', 'September',\n",
    "          'October', 'November', 'December']\n\n",
    "for month in range(12):\n",
    "    Growing_season = (xr.where(\n",
    "        ((P[0] == month + 1) | (P[1] == month + 1) | ((P[0] > month + 1) & (P[1] < P[0]) & (P[1] > month + 1)) | ((P[0] < month + 1) & (P[1] > month + 1)))\n",
    "        | ((P[2] == month + 1) | (P[3] == month + 1) | ((P[2] > month + 1) & (P[3] < P[2]) & (P[3] > month + 1)) | ((P[2] < month + 1) & (P[3] > month + 1))), 1, 0)\n",
    "    )\n\n",
    "    Crop_mask = xr.where((Growing_season == 1) & (((Land_cover_S3 >= 11) & (Land_cover_S3 <= 30)) | (Land_cover_CCI == 4)), 1, 0)\n",
    "    Crop_mask = Crop_mask.where(Crop_mask != 0)\n",
    "    Crop_mask = Crop_mask.transpose('band', 'y', 'x')\n",
    "    Crop_mask = Crop_mask.rio.write_crs(Land_cover_CCI.rio.crs)\n\n",
    "    output_path = os.path.join(main_dir, 'Crop_mask', f'{months[month]}.tif')\n",
    "    Crop_mask.rio.to_raster(output_path)"
   ]
  }
 ],
 "metadata": {
  "kernelspec": {
   "display_name": "rasterio",
   "language": "python",
   "name": "rasterio"
  },
  "language_info": {
   "codemirror_mode": {
    "name": "ipython",
    "version": 3
   },
   "file_extension": ".py",
   "mimetype": "text/x-python",
   "name": "python",
   "nbconvert_exporter": "python",
   "pygments_lexer": "ipython3",
   "version": "3.11.0"
  }
 },
 "nbformat": 4,
 "nbformat_minor": 5
}
