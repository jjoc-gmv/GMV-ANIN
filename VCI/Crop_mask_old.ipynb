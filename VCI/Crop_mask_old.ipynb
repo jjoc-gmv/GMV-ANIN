{
 "cells": [
  {
   "cell_type": "markdown",
   "id": "3549c580",
   "metadata": {},
   "source": [
    "# Libraries"
   ]
  },
  {
   "cell_type": "code",
   "execution_count": null,
   "id": "76d70796",
   "metadata": {},
   "outputs": [],
   "source": [
    "import os\n",
    "import xarray as xr\n",
    "import rioxarray as rxr\n",
    "from shapely.geometry import mapping\n",
    "import geopandas as gpd\n",
    "from rasterio.enums import Resampling\n",
    "from datetime import datetime, timedelta\n",
    "from calendar import monthrange"
   ]
  },
  {
   "cell_type": "code",
   "execution_count": null,
   "id": "82513b37",
   "metadata": {},
   "outputs": [],
   "source": [
    "# Set the base directory with an environment variable, fallback to a relative path\n",
    "main_dir = os.getenv('PROJECT_DIR', os.path.join(os.getcwd(), 'data', 'ANIN', 'Generating Indices', 'VCI', 'NDVI-16', 'Trial', 'Tiles', 'Crop_mask_new'))\n",
    "\n",
    "main_dir = r'C:\\Users\\enhi\\OneDrive - gmv.com\\Documents\\Projects\\ANIN\\Generating Indices\\VCI\\NDVI-16\\Trial\\Tiles\\Crop mask\\Resampled to 300m'\n",
    "main_dir = r'Insert the path to the directory with the resampled to 300m data'\n",
    "Base_crop_mask = rxr.open_rasterio(main_dir  +'\\\\' + 'Base_crop_mask300.tif',masked=True)\n",
    "Crop_layer = rxr.open_rasterio(main_dir+ '\\\\' + 'Cropland300.tif',masked=True)\n",
    "months = ['January', 'February', 'March', 'April', 'May', 'June', 'July', 'August', 'September',\n",
    "          'October', 'November', 'December']"
   ]
  },
  {
   "cell_type": "code",
   "execution_count": null,
   "id": "7eb9fe74",
   "metadata": {},
   "outputs": [],
   "source": [
    "Phenology = Base_crop_mask.drop(labels = 1, dim = 'band')\n",
    "Phenology_new = xr.where((Phenology > 36) & (Phenology <= 72), Phenology - 36, Phenology)\n",
    "Phenology_new = xr.where(Phenology_new> 72 , Phenology_new - 72,Phenology_new)"
   ]
  },
  {
   "cell_type": "code",
   "execution_count": null,
   "id": "646ec43d",
   "metadata": {},
   "outputs": [],
   "source": [
    "count = 0\n",
    "Phenology_month = Phenology_new\n",
    "for i in range(0,12):\n",
    "    Phenology_month = xr.where((Phenology_new > (0 + count)) & (Phenology_new <= (3 +count)), 1+i, Phenology_month)\n",
    "    count = count+3\n",
    "    "
   ]
  },
  {
   "cell_type": "code",
   "execution_count": null,
   "id": "50931e6c",
   "metadata": {},
   "outputs": [],
   "source": [
    "m = xr.concat([Crop_layer,Phenology_month], dim = 'band')"
   ]
  },
  {
   "cell_type": "code",
   "execution_count": null,
   "id": "6927752e",
   "metadata": {},
   "outputs": [],
   "source": [
    "for month in range(0,12):\n",
    "    Crop_mask = xr.where( (m[0].isnull() ==False) & ((m[1]==month+1) | (m[2] ==month+1) | ((m[1]>month+1) & (m[2]<m[1]) & (m[2]>month+1)) | ((m[1]<month+1) & (m[2]>month+1))), 1,0)\n",
    "    Crop_mask = Crop_mask.where(Crop_mask!=0)\n",
    "    \n",
    "    Crop_mask.rio.to_raster(main_dir+'\\\\'+'Months'+ '\\\\' + 'Crop'+'\\\\'+ months[month]+ '.tif')"
   ]
  },
  {
   "cell_type": "code",
   "execution_count": null,
   "id": "04619b22",
   "metadata": {},
   "outputs": [],
   "source": []
  }
 ],
 "metadata": {
  "kernelspec": {
   "display_name": "rasterio",
   "language": "python",
   "name": "rasterio"
  },
  "language_info": {
   "codemirror_mode": {
    "name": "ipython",
    "version": 3
   },
   "file_extension": ".py",
   "mimetype": "text/x-python",
   "name": "python",
   "nbconvert_exporter": "python",
   "pygments_lexer": "ipython3",
   "version": "3.11.0"
  }
 },
 "nbformat": 4,
 "nbformat_minor": 5
}
