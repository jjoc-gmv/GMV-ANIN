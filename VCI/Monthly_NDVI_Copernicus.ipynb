{
 "cells": [
  {
   "cell_type": "markdown",
   "id": "96306f73",
   "metadata": {},
   "source": [
    "# Libraries"
   ]
  },
  {
   "cell_type": "code",
   "execution_count": 19,
   "id": "17710673",
   "metadata": {},
   "outputs": [],
   "source": [
    "import os\n",
    "import xarray as xr\n",
    "import rioxarray as rxr\n",
    "from shapely.geometry import mapping\n",
    "import geopandas as gpd\n",
    "from rasterio.enums import Resampling\n",
    "from datetime import datetime\n",
    "from calendar import monthrange"
   ]
  },
  {
   "cell_type": "code",
   "execution_count": 16,
   "id": "ae88bf49",
   "metadata": {},
   "outputs": [],
   "source": [
    "# Set the base directory with an environment variable, fallback to a relative path\n",
    "main_dir = os.getenv('PROJECT_DIR', os.path.join(os.getcwd(), 'data', 'ANIN', 'Generating Indices', 'VCI', 'NDVI-16', 'Trial', 'Tiles'))\n",
    "# Directory to years files for Copernicus data of AOI\n",
    "Copernicus = os.path.join(main_dir, 'Copernicus') \n",
    "# Directory to the shape file of the three countries\n",
    "Boundary = os.path.join(main_dir, 'Boundary')\n",
    "Output_dir = os.path.join(main_dir, 'Copernicus_monthly_WA')"
   ]
  },
  {
   "cell_type": "code",
   "execution_count": 17,
   "id": "541cf9a4",
   "metadata": {},
   "outputs": [
    {
     "name": "stdout",
     "output_type": "stream",
     "text": [
      "Shapefile loaded. To prepare for masking, run the function\n",
      "        `select_shape`.\n",
      "Mask created.\n"
     ]
    }
   ],
   "source": [
    "# Load the shapefile\n",
    "def load_shape_file(filepath):\n",
    "    \"\"\"Loads the shape file desired to mask a grid.\n",
    "    Args:\n",
    "        filepath: Path to *.shp file\n",
    "    \"\"\"\n",
    "    shpfile = gpd.read_file(filepath)\n",
    "    print(\"\"\"Shapefile loaded. To prepare for masking, run the function\n",
    "        `select_shape`.\"\"\")\n",
    "    return shpfile\n",
    "\n",
    "#Create the mask\n",
    "def select_shape(shpfile):\n",
    "\n",
    "    \"\"\"Select the submask of interest from the shapefile.\n",
    "    Args:\n",
    "        shpfile: (*.shp) loaded through `load_shape_file`\n",
    "        category: (str) header of shape file from which to filter shape.\n",
    "            (Run print(shpfile) to see options)\n",
    "        name: (str) name of shape relative to category.\n",
    "           Returns:\n",
    "        shapely polygon\n",
    "    \"\"\"\n",
    "\n",
    "    col_code = 'ISO3_CODE'\n",
    "    country_codes = ['ZAF', 'LSO', 'SWZ']\n",
    "\n",
    "    # Extract the rows that have 'ZAF', 'LSO', or 'SWZ' in the 'SOV_A3' column\n",
    "    selected_rows = shpfile[shpfile[col_code].isin(country_codes)]\n",
    "\n",
    "    # Combine the selected polygons into a single polygon\n",
    "    unioned_polygon = selected_rows.geometry.unary_union\n",
    "\n",
    "    # Convert the unioned polygon to a geopandas dataframe with a single row\n",
    "    mask_polygon = gpd.GeoDataFrame(geometry=[unioned_polygon])\n",
    "    \n",
    "    print(\"\"\"Mask created.\"\"\")\n",
    "\n",
    "    return mask_polygon\n",
    "#Generate AOI\n",
    "shpfile = load_shape_file(os.path.join(Boundary, 'CNTR_RG_01M_2020_4326.shp'))\n",
    "AOI = select_shape(shpfile)"
   ]
  },
  {
   "cell_type": "code",
   "execution_count": 23,
   "id": "ee0d3141",
   "metadata": {},
   "outputs": [
    {
     "name": "stdout",
     "output_type": "stream",
     "text": [
      "Dictionaries of NDVI data of all months per year is created\n"
     ]
    }
   ],
   "source": [
    "'''\n",
    "The monthly NDVI data is stored based on the following:\n",
    "there is a dictionary of which the keys are the years and the values are other\n",
    "dictioneris in which the keys are the months names and the values are \n",
    "the monthly NDVI data \n",
    "'''\n",
    "# years folders which contain month folders of 10Days Copernicus NDVI data\n",
    "Copernicus_years = sorted(os.listdir(Copernicus)) \n",
    "#Empty dictionray to contain monthly data for each year\n",
    "years_copernicus = {}\n",
    "#loop through all availabe years folders\n",
    "for year in Copernicus_years:\n",
    "    #Empty dictionary to contain monthly NDVI data per year\n",
    "    months_copernicus={}\n",
    "    #loop through each month folder per year\n",
    "    for month in sorted(os.listdir(os.path.join(Copernicus, year))):\n",
    "        #list contains the three 10Days composite files in the month\n",
    "        NDVI_10Days = sorted(os.listdir(os.path.join(Copernicus, year, month)))\n",
    "        #path to be used to open the tiff files\n",
    "        path = os.path.join(Copernicus, year, month)\n",
    "        # open tiff files of each 10Days composite\n",
    "        first_10Days = rxr.open_rasterio(os.path.join(path, NDVI_10Days[0]), \n",
    "                                         masked=True)\n",
    "        second_10Days = rxr.open_rasterio(os.path.join(path, NDVI_10Days[1]), \n",
    "                                          masked=True) \n",
    "        third_10Days = rxr.open_rasterio(os.path.join(path, NDVI_10Days[2]), \n",
    "                                         masked=True) \n",
    "        \n",
    "        '''\n",
    "        Extract scale factor and offset from Copernicus NDVI metadata \n",
    "        which will be used to calculate the real NDVI values.\n",
    "        '''\n",
    "        Scale_factor = first_10Days.attrs['scale_factor']\n",
    "        Offset = first_10Days.attrs['add_offset']\n",
    "        Number_of_Month = datetime.strptime(month, '%B').month\n",
    "        nMonth_days = monthrange(int(year),Number_of_Month)[1]\n",
    "        # Calculation of real NDVI values using scale_factor and offset\n",
    "        first_real = (first_10Days* Scale_factor + Offset) * (10/nMonth_days)\n",
    "        second_real = (second_10Days* Scale_factor + Offset) * (10/nMonth_days)\n",
    "        third_real = (third_10Days * Scale_factor + Offset) * ((nMonth_days + 1 -21)/nMonth_days)\n",
    "        #Concatenation of the three 10Days real NDVI as different bands\n",
    "        concat = xr.concat([first_real, second_real, third_real], dim='band')\n",
    "        #Calculation of monthly NDVI data usind the average of\n",
    "        #the three 10Days values\n",
    "        Monthly_average = concat.sum(dim='band')\n",
    "        # Read the crs of NDVI copernicus data\n",
    "        Copernicus_crs = first_10Days.rio.crs\n",
    "        #Assign crs for monthly data\n",
    "        Monthly_average.rio.write_crs(Copernicus_crs, inplace=True)\n",
    "        \n",
    "        #Clipping the monthly NDVI data using AOI\n",
    "        \n",
    "        Monthly_average_AOI = Monthly_average.rio.clip(AOI.geometry.apply(mapping),\n",
    "                                     crs=Copernicus_crs,all_touched=True,\n",
    "                                     from_disk=True).squeeze() \n",
    "    \n",
    "        # Append the monthly data of a month to the dictionry \n",
    "        #of all months through a year\n",
    "        months_copernicus[month]=Monthly_average_AOI\n",
    "        #The following is optional if we need to export the monthly data \n",
    "        #to tiff files\n",
    "        \n",
    "        check_folder_Output_dir = os.path.isdir(Output_dir)\n",
    "        if not check_folder_Output_dir:\n",
    "            os.makedirs(Output_dir)\n",
    "            \n",
    "        years_cop = os.path.join(Output_dir, year)\n",
    "        check_folder_years_cop = os.path.isdir(years_cop)\n",
    "        if not check_folder_years_cop:\n",
    "            os.makedirs(years_cop)          \n",
    "\n",
    "        Monthly_average_AOI.rio.to_raster(os.path.join(years_cop, year + month + '.tif'))\n",
    "        \n",
    "    #Append a dictionary which contains the monthly data of a year\n",
    "    years_copernicus[year] = months_copernicus\n",
    "\n",
    "print('Dictionaries of NDVI data of all months per year is created') "
   ]
  }
 ],
 "metadata": {
  "kernelspec": {
   "display_name": "rasterio",
   "language": "python",
   "name": "rasterio"
  },
  "language_info": {
   "codemirror_mode": {
    "name": "ipython",
    "version": 3
   },
   "file_extension": ".py",
   "mimetype": "text/x-python",
   "name": "python",
   "nbconvert_exporter": "python",
   "pygments_lexer": "ipython3",
   "version": "3.11.0"
  }
 },
 "nbformat": 4,
 "nbformat_minor": 5
}
